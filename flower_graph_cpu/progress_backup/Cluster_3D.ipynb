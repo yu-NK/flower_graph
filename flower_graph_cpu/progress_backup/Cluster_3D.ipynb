{
 "cells": [
  {
   "cell_type": "markdown",
   "id": "ee9abdfe",
   "metadata": {},
   "source": [
    "# 2次元上の結果を3次元で統合"
   ]
  },
  {
   "cell_type": "code",
   "execution_count": 7,
   "id": "30362e0f",
   "metadata": {},
   "outputs": [],
   "source": [
    "import cv2\n",
    "import numpy as np\n",
    "from tqdm import tqdm"
   ]
  },
  {
   "cell_type": "code",
   "execution_count": 45,
   "id": "0f4fcf82",
   "metadata": {},
   "outputs": [],
   "source": [
    "img_num = 670\n",
    "\n",
    "input_file_down    = \"Output/Spectral_sys/12_junk-del-label-inte-sp/ORA-{0:03d}_k-means-200_junk-del-label-inte_sp.png\".format(img_num-10)\n",
    "input_file_current = \"Output/Spectral_sys/12_junk-del-label-inte-sp/ORA-{0:03d}_k-means-200_junk-del-label-inte_sp.png\".format(img_num)\n",
    "input_file_up      = \"Output/Spectral_sys/12_junk-del-label-inte-sp/ORA-{0:03d}_k-means-200_junk-del-label-inte_sp.png\".format(img_num+9)\n",
    "\n",
    "img_d = cv2.imread(input_file_down)\n",
    "img_c = cv2.imread(input_file_current)\n",
    "img_u = cv2.imread(input_file_up)\n",
    "\n",
    "height,width,color = img_c.shape\n",
    "\n",
    "color_code_d = np.zeros((100,3))\n",
    "color_code_c = np.zeros((100,3))\n",
    "color_code_u = np.zeros((100,3))\n",
    "\n",
    "temp_d = np.zeros((height,width))\n",
    "temp_c = np.zeros((height,width))\n",
    "temp_u = np.zeros((height,width))"
   ]
  },
  {
   "cell_type": "code",
   "execution_count": 46,
   "id": "09751af7",
   "metadata": {},
   "outputs": [
    {
     "name": "stderr",
     "output_type": "stream",
     "text": [
      "100%|███████████████████████████████████████████████████████████████████████████████████████████████████████████████████████████████████████████████| 858/858 [00:04<00:00, 172.06it/s]\n",
      "100%|███████████████████████████████████████████████████████████████████████████████████████████████████████████████████████████████████████████████| 858/858 [00:04<00:00, 176.86it/s]\n",
      "100%|███████████████████████████████████████████████████████████████████████████████████████████████████████████████████████████████████████████████| 858/858 [00:04<00:00, 174.70it/s]\n"
     ]
    }
   ],
   "source": [
    "img_d_rmb = np.zeros((height,width))\n",
    "img_c_rmb = np.zeros((height,width))\n",
    "img_u_rmb = np.zeros((height,width))\n",
    "\n",
    "for y in tqdm(range(height)):\n",
    "    for x in range(width):\n",
    "        if((img_c[y,x,0]== img_c[y,x,1]) and (img_c[y,x,1] == img_c[y,x,2])):\n",
    "            img_c[y,x] == (0,0,0)\n",
    "        else:\n",
    "            img_c_rmb[y,x]=255\n",
    "            \n",
    "for y in tqdm(range(height)):\n",
    "    for x in range(width):\n",
    "        if((img_d[y,x,0]== img_d[y,x,1]) and (img_d[y,x,1] == img_d[y,x,2])):\n",
    "            img_d[y,x] == (0,0,0)\n",
    "        else:\n",
    "            img_d_rmb[y,x]=255\n",
    "            \n",
    "for y in tqdm(range(height)):\n",
    "    for x in range(width):\n",
    "        if((img_u[y,x,0]== img_u[y,x,1]) and (img_u[y,x,1] == img_u[y,x,2])):\n",
    "            img_u[y,x] == (0,0,0)\n",
    "        else:\n",
    "            img_u_rmb[y,x]=255"
   ]
  },
  {
   "cell_type": "code",
   "execution_count": 47,
   "id": "799f9278",
   "metadata": {},
   "outputs": [
    {
     "name": "stderr",
     "output_type": "stream",
     "text": [
      "100%|███████████████████████████████████████████████████████████████████████████████████████████████████████████████████████████████████████████████| 858/858 [00:06<00:00, 138.89it/s]\n",
      "100%|████████████████████████████████████████████████████████████████████████████████████████████████████████████████████████████████████████████████| 858/858 [00:09<00:00, 94.59it/s]\n",
      "100%|███████████████████████████████████████████████████████████████████████████████████████████████████████████████████████████████████████████████| 858/858 [00:06<00:00, 136.31it/s]\n"
     ]
    }
   ],
   "source": [
    "#img_c_gray = cv2.imread(input_file_current,0)\n",
    "\n",
    "i = 1\n",
    "\n",
    "for y in tqdm(range(height)):\n",
    "    for x in range(width):\n",
    "        if(img_c_rmb[y,x]==255):\n",
    "            if(i==1):\n",
    "                color_code_c[i] = img_c[y,x]\n",
    "                temp_c[y,x] = i\n",
    "                i+=1\n",
    "            else:\n",
    "                flag = 0\n",
    "                j = 1\n",
    "\n",
    "                while(flag != 1 and j <= i):\n",
    "                    if((color_code_c[j]==img_c[y,x]).all()):\n",
    "                        flag = 1\n",
    "                        temp_c[y,x] = j\n",
    "                    else:\n",
    "                        j += 1\n",
    "\n",
    "                if(flag == 0):\n",
    "                    color_code_c[i] = img_c[y,x]\n",
    "                    temp_c[y,x] = i\n",
    "                    i += 1\n",
    "                    \n",
    "i = 1\n",
    "\n",
    "for y in tqdm(range(height)):\n",
    "    for x in range(width):\n",
    "        if(img_d_rmb[y,x]==255):\n",
    "            if(i==1):\n",
    "                color_code_d[i] = img_d[y,x]\n",
    "                temp_d[y,x] = i\n",
    "                i+=1\n",
    "            else:\n",
    "                flag = 0\n",
    "                j = 1\n",
    "\n",
    "                while(flag != 1 and j <= i):\n",
    "                    if((color_code_d[j]==img_d[y,x]).all()):\n",
    "                        flag = 1\n",
    "                        temp_d[y,x] = j\n",
    "                    else:\n",
    "                        j += 1\n",
    "\n",
    "                if(flag == 0):\n",
    "                    color_code_d[i] = img_d[y,x]\n",
    "                    temp_d[y,x] = i\n",
    "                    i += 1\n",
    "                    \n",
    "i = 1\n",
    "\n",
    "for y in tqdm(range(height)):\n",
    "    for x in range(width):\n",
    "        if(img_u_rmb[y,x]==255):\n",
    "            if(i==1):\n",
    "                color_code_u[i] = img_u[y,x]\n",
    "                temp_u[y,x] = i\n",
    "                i+=1\n",
    "            else:\n",
    "                flag = 0\n",
    "                j = 1\n",
    "\n",
    "                while(flag != 1 and j <= i):\n",
    "                    if((color_code_u[j]==img_u[y,x]).all()):\n",
    "                        flag = 1\n",
    "                        temp_u[y,x] = j\n",
    "                    else:\n",
    "                        j += 1\n",
    "\n",
    "                if(flag == 0):\n",
    "                    color_code_u[i] = img_u[y,x]\n",
    "                    temp_u[y,x] = i\n",
    "                    i += 1"
   ]
  },
  {
   "cell_type": "code",
   "execution_count": 48,
   "id": "192dc749",
   "metadata": {},
   "outputs": [
    {
     "name": "stderr",
     "output_type": "stream",
     "text": [
      "100%|███████████████████████████████████████████████████████████████████████████████████████████████████████████████████████████████████████████████| 858/858 [00:01<00:00, 827.73it/s]\n"
     ]
    }
   ],
   "source": [
    "ch_num_u = np.zeros((100,100))\n",
    "\n",
    "for y in tqdm(range(height)):\n",
    "    for x in range(width):\n",
    "        if(img_c_rmb[y,x]==255):\n",
    "            for y_n in range(y-1,y+2):\n",
    "                for x_n in range(x-1,x+2):\n",
    "                    if(img_u_rmb[y_n,x_n]==255):\n",
    "                        ch_num_u[int(temp_u[y_n,x_n]),int(temp_c[y,x])] += 1        "
   ]
  },
  {
   "cell_type": "code",
   "execution_count": 33,
   "id": "dfcd0d46",
   "metadata": {},
   "outputs": [
    {
     "name": "stdout",
     "output_type": "stream",
     "text": [
      "[[0. 0. 0. ... 0. 0. 0.]\n",
      " [0. 0. 0. ... 0. 0. 0.]\n",
      " [0. 0. 0. ... 0. 0. 0.]\n",
      " ...\n",
      " [0. 0. 0. ... 0. 0. 0.]\n",
      " [0. 0. 0. ... 0. 0. 0.]\n",
      " [0. 0. 0. ... 0. 0. 0.]]\n"
     ]
    }
   ],
   "source": [
    "print(temp_c)"
   ]
  },
  {
   "cell_type": "code",
   "execution_count": 49,
   "id": "bbba846e",
   "metadata": {},
   "outputs": [
    {
     "name": "stderr",
     "output_type": "stream",
     "text": [
      "100%|█████████████████████████████████████████████████████████████████████████████████████████████████████████████████████████████████████████████| 100/100 [00:00<00:00, 60804.64it/s]"
     ]
    },
    {
     "name": "stdout",
     "output_type": "stream",
     "text": [
      "[ 0.  1.  3.  4.  7.  5.  6.  7.  8.  7. 10.  5.  0. 11. 19. 16. 23. 13.\n",
      " 17.  5. 18. 20. 21.  0. 22. 25. 26. 27. 28. 29.  0.  0.  0.  0. 30.  0.\n",
      " 33. 31. 32. 34. 35. 36. 35.  0. 38. 37.  0.  0.  0.  0.  0.  0.  0.  0.\n",
      "  0.  0.  0.  0.  0.  0.  0.  0.  0.  0.  0.  0.  0.  0.  0.  0.  0.  0.\n",
      "  0.  0.  0.  0.  0.  0.  0.  0.  0.  0.  0.  0.  0.  0.  0.  0.  0.  0.\n",
      "  0.  0.  0.  0.  0.  0.  0.  0.  0.  0.]\n"
     ]
    },
    {
     "name": "stderr",
     "output_type": "stream",
     "text": [
      "\n"
     ]
    }
   ],
   "source": [
    "ch_num_u_result = np.zeros(100)\n",
    "\n",
    "for i in tqdm(range(100)):\n",
    "    ch_num_axis = ch_num_u[i,:]\n",
    "    ch_num_u_result[i] = np.argmax(ch_num_axis)\n",
    "\n",
    "print(ch_num_u_result)"
   ]
  },
  {
   "cell_type": "code",
   "execution_count": 50,
   "id": "f4328045",
   "metadata": {},
   "outputs": [
    {
     "name": "stderr",
     "output_type": "stream",
     "text": [
      "100%|██████████████████████████████████████████████████████████████████████████████████████████████████████████████████████████████████████████████| 858/858 [00:00<00:00, 1569.00it/s]\n"
     ]
    },
    {
     "data": {
      "text/plain": [
       "True"
      ]
     },
     "execution_count": 50,
     "metadata": {},
     "output_type": "execute_result"
    }
   ],
   "source": [
    "for y in tqdm(range(height)):\n",
    "    for x in range(width):\n",
    "        if(img_u_rmb[y,x]==255):\n",
    "            if(ch_num_u_result[int(temp_u[y,x])] != 0):\n",
    "                img_u[y,x] = color_code_c[int(ch_num_u_result[int(temp_u[y,x])])]\n",
    "                \n",
    "cv2.imwrite('test_3d_2.png',img_u)"
   ]
  },
  {
   "cell_type": "code",
   "execution_count": null,
   "id": "e9fc47ad",
   "metadata": {},
   "outputs": [],
   "source": []
  }
 ],
 "metadata": {
  "kernelspec": {
   "display_name": "Python 3 (ipykernel)",
   "language": "python",
   "name": "python3"
  },
  "language_info": {
   "codemirror_mode": {
    "name": "ipython",
    "version": 3
   },
   "file_extension": ".py",
   "mimetype": "text/x-python",
   "name": "python",
   "nbconvert_exporter": "python",
   "pygments_lexer": "ipython3",
   "version": "3.8.10"
  }
 },
 "nbformat": 4,
 "nbformat_minor": 5
}
