{
 "cells": [
  {
   "cell_type": "markdown",
   "id": "137ab5ac",
   "metadata": {},
   "source": [
    "## 1枚のCT画像の一部分を切り取ってスペクトラルクラスタリング"
   ]
  },
  {
   "cell_type": "markdown",
   "id": "4d35095e",
   "metadata": {},
   "source": [
    "### ライブラリのインポート"
   ]
  },
  {
   "cell_type": "code",
   "execution_count": null,
   "id": "e8a96671",
   "metadata": {},
   "outputs": [],
   "source": [
    "%matplotlib inline\n",
    "\n",
    "import numpy as np\n",
    "import cv2\n",
    "from tqdm import tqdm\n",
    "import matplotlib.pyplot as plt\n",
    "#import networkx as nx\n",
    "import sys\n",
    "#from scipy.sparse import lil_matrix\n",
    "import numpy.linalg as LA\n",
    "import datetime\n",
    "#from scipy.sparse import csr_matrix, csc_matrix\n",
    "#from scipy.sparse.linalg import inv, eigs"
   ]
  },
  {
   "cell_type": "markdown",
   "id": "7f3c827b",
   "metadata": {},
   "source": [
    "### ラプラシアン行列の作成"
   ]
  },
  {
   "cell_type": "code",
   "execution_count": null,
   "id": "a668c6d9",
   "metadata": {},
   "outputs": [],
   "source": [
    "def laplacian_matrix( network_matrix ):\n",
    "    n_nodes = network_matrix.shape[0]\n",
    "    \n",
    "    degree_matrix = np.diag( network_matrix.sum( axis=1 ) ) \n",
    "    \n",
    "    laplacian_matrix = degree_matrix - network_matrix\n",
    "\n",
    "    return laplacian_matrix"
   ]
  },
  {
   "cell_type": "markdown",
   "id": "3052342e",
   "metadata": {},
   "source": [
    "### 固有値計算"
   ]
  },
  {
   "cell_type": "code",
   "execution_count": null,
   "id": "cfe1c6ec",
   "metadata": {},
   "outputs": [],
   "source": [
    "def eigen_2nd( network_matrix ):\n",
    "    L = laplacian_matrix( network_matrix)\n",
    "    values, vectors = LA.eig( L )\n",
    "    \n",
    "    v_index = np.argsort( values )\n",
    "    \n",
    "    eigen = values[ v_index[1] ]\n",
    "    eigen_vector = vectors[:, v_index[1] ]\n",
    "    return eigen, eigen_vector"
   ]
  },
  {
   "cell_type": "markdown",
   "id": "38352884",
   "metadata": {},
   "source": [
    "### 隣接行列作成"
   ]
  },
  {
   "cell_type": "code",
   "execution_count": null,
   "id": "33221252",
   "metadata": {},
   "outputs": [],
   "source": [
    "#255は全て\n",
    "diff = 15\n",
    "\n",
    "th = 60\n",
    "    \n",
    "cnt = 1\n",
    "\n",
    "now = datetime.datetime.now()\n",
    "print(now)\n",
    "    \n",
    "print('ノード番号付与中')\n",
    "\n",
    "img_num = 663\n",
    "\n",
    "left = 254\n",
    "right = 284\n",
    "\n",
    "#img = cv2.imread('Input/ORA-{0:03d}_{1:d}-{2:d}.png'.format(img_num,left,right),0)\n",
    "img = cv2.imread('Input/test.png',0)\n",
    "\n",
    "height,width = img.shape\n",
    "\n",
    "temp = np.zeros((height,width),dtype = 'i4')\n",
    "\n",
    "for y in range(height):\n",
    "    for x in range(width):\n",
    "        if(img[y,x]>th):\n",
    "            temp[y,x] = cnt\n",
    "            cnt += 1\n",
    "\n",
    "now = datetime.datetime.now()\n",
    "print(now)\n",
    "\n",
    "#print('スパース行列作成')\n",
    "#A = lil_matrix((cnt+1,cnt+1),dtype='float')\n",
    "A = np.zeros((cnt-1,cnt-1),dtype='float')\n",
    "\n",
    "now = datetime.datetime.now()\n",
    "print(now)\n",
    "\n",
    "print('隣接行列作成中')\n",
    "\n",
    "for y in tqdm(range(height)):\n",
    "    for x in range(width):\n",
    "\n",
    "        if(img[y,x]>th):\n",
    "            brig1 = img[y,x]\n",
    "            node1 = temp[y,x]-1\n",
    "\n",
    "            #print(node1)\n",
    "\n",
    "            if(x!=(width-1)):\n",
    "\n",
    "                if(img[y,x+1]>th):\n",
    "                    brig2 = img[y,x+1]\n",
    "                    diff_n = abs(int(brig1)-int(brig2))\n",
    "                    node2 = temp[y,x+1]-1\n",
    "                    if(diff_n < diff):\n",
    "                        A[node1,node2] = 1\n",
    "                        A[node2,node1] = 1\n",
    "\n",
    "\n",
    "            if(y!=(height-1)):\n",
    "                \n",
    "                if(img[y+1,x]>th):\n",
    "                    brig2 = img[y+1,x]\n",
    "                    diff_n = abs(int(brig1)-int(brig2))\n",
    "                    node2 = temp[y+1,x]-1\n",
    "                    if(diff_n < diff):\n",
    "                        A[node1,node2] = 1\n",
    "                        A[node2,node1] = 1\n",
    "\n",
    "                if(x!=0):\n",
    "                    if(img[y+1,x-1]>th):\n",
    "                        brig2 = img[y+1,x-1]\n",
    "                        diff_n = abs(int(brig1)-int(brig2))\n",
    "                        node2 = temp[y+1,x-1]-1\n",
    "                        if(diff_n < diff):\n",
    "                            A[node1,node2] = 1\n",
    "                            A[node2,node1] = 1\n",
    "\n",
    "                if(x!=(width-1)):\n",
    "                    if(img[y+1,x+1]>th):\n",
    "                        brig2 = img[y+1,x+1]\n",
    "                        diff_n = abs(int(brig1)-int(brig2))\n",
    "                        node2 = temp[y+1,x+1]-1\n",
    "                        if(diff_n < diff):\n",
    "                            A[node1,node2] = 1\n",
    "                            A[node2,node1] = 1"
   ]
  },
  {
   "cell_type": "markdown",
   "id": "e0540376",
   "metadata": {},
   "source": [
    "### 固有値計算の表示"
   ]
  },
  {
   "cell_type": "code",
   "execution_count": null,
   "id": "15f21bcc",
   "metadata": {},
   "outputs": [],
   "source": [
    "#calculate the eigen vector of 2nd smallest eigen value.\n",
    "eig, vector = eigen_2nd(A)\n",
    "\n",
    "#print(eig)\n",
    "#print(vector)"
   ]
  },
  {
   "cell_type": "markdown",
   "id": "4b5561ab",
   "metadata": {},
   "source": [
    "#### ＜参考＞全固有値出力用関数"
   ]
  },
  {
   "cell_type": "code",
   "execution_count": null,
   "id": "ab99e575",
   "metadata": {},
   "outputs": [],
   "source": [
    "def all_eigenvalue( network_matrix ):\n",
    "    L = laplacian_matrix( network_matrix)\n",
    "    values, vectors = LA.eig( L )\n",
    "    return values"
   ]
  },
  {
   "cell_type": "markdown",
   "id": "fe250b3f",
   "metadata": {},
   "source": [
    "#### ＜参考＞固有値の変化をプロット"
   ]
  },
  {
   "cell_type": "code",
   "execution_count": null,
   "id": "c4908edc",
   "metadata": {},
   "outputs": [],
   "source": [
    "#全固有値を取得\n",
    "values = all_eigenvalue( A )\n",
    "\n",
    "#固有値の変化をプロット\n",
    "x_eig = np.array( range( values.shape[0] ) )\n",
    "#x_eig = np.array(range(20))\n",
    "eig_sort = sorted(values)\n",
    "#eig_part = eig_sort[0:20]\n",
    "\n",
    "plt.plot( x_eig, eig_sort, marker = '.', color = 'red' )"
   ]
  },
  {
   "cell_type": "markdown",
   "id": "8c45c506",
   "metadata": {},
   "source": [
    "### 固有ベクトルの値をプロット"
   ]
  },
  {
   "cell_type": "code",
   "execution_count": null,
   "id": "274ba13e",
   "metadata": {},
   "outputs": [],
   "source": [
    "#plot the vector's values\n",
    "\n",
    "#fig,ax = plt.subplots(figsize=(30,30),dpi=100)\n",
    "\n",
    "x = np.array( range( vector.shape[0] ) )\n",
    "plt.plot( x, vector, marker = '.', color = 'red' )\n",
    "#plt.savefig('Output/Spectral_Clustering_ORA-{0:03d}_{1:d}-{2:d}/ORA-{0:03d}_{3:d}_{1:d}-{2:d}_vector.pdf'.format(img_num,left,right,diff))\n",
    "#plt.savefig('Output/Spectral_Clustering_ORA-{0:03d}_{1:d}-{2:d}/ORA-{0:03d}_{1:d}-{2:d}_vector.pdf'.format(img_num,left,right))\n",
    "#plt.savefig('Output/Spectral_Clustering_test/test.pdf')"
   ]
  },
  {
   "cell_type": "markdown",
   "id": "b2be08b7",
   "metadata": {},
   "source": [
    "### 固有ベクトルの値から分類"
   ]
  },
  {
   "cell_type": "code",
   "execution_count": null,
   "id": "f8ee359c",
   "metadata": {},
   "outputs": [],
   "source": [
    "img_col = cv2.imread('Input/ORA-{0:03d}_{1:d}-{2:d}.png'.format(img_num,left,right))\n",
    "#img_col = cv2.imread('Input/test.png')\n",
    "    \n",
    "for y in tqdm(range(height)):\n",
    "    for x in range(width):\n",
    "#for i in tqdm(range(cnt_0+21428,cnt_0+25000)):\n",
    "        if(temp[y,x]>0):\n",
    "            #y,x = np.where(temp == i)\n",
    "            \n",
    "            #img_col[y,x] = (0,0,255)\n",
    "\n",
    "            i = temp[y,x]-1\n",
    "            \n",
    "            if(0.05<vector[i]):\n",
    "                img_col[y,x] = (0,0,255)\n",
    "            else:\n",
    "                img_col[y,x] = (255,0,0)\n",
    "\n",
    "cv2.imwrite('Output/Spectral_Clustering_ORA-{0:03d}_{1:d}-{2:d}/ORA-{0:03d}_color_{3:d}_{1:d}-{2:d}.png'.format(img_num,left,right,diff),img_col)\n",
    "#cv2.imwrite('Output/Spectral_Clustering_ORA-{0:03d}_{1:d}-{2:d}/ORA-{0:03d}_color_{1:d}-{2:d}.png'.format(img_num,left,right),img_col)\n",
    "#cv2.imwrite('Output/Spectral_Clustering_test/test_color.png',img_col)"
   ]
  },
  {
   "cell_type": "markdown",
   "id": "214a62d8",
   "metadata": {},
   "source": [
    "### 画像の切り取り"
   ]
  },
  {
   "cell_type": "code",
   "execution_count": null,
   "id": "cb4f5c88",
   "metadata": {},
   "outputs": [],
   "source": [
    "from PIL import Image\n",
    "\n",
    "img_number = 663\n",
    "\n",
    "im = Image.open('../../flower_CT_photo/ORA/[vg-data] ORA/volume_1/ORA-{0:03d}.tif'.format(img_number))\n",
    "\n",
    "left_x = 338\n",
    "right_x = 387\n",
    "upper_y = 758\n",
    "lower_y = 800\n",
    "\n",
    "im.crop((left_x,upper_y,right_x,lower_y)).save('Input/ORA-{0:03d}_{1:d}-{2:d}.png'.format(img_number,left_x,right_x))"
   ]
  },
  {
   "cell_type": "markdown",
   "id": "f454824b",
   "metadata": {},
   "source": [
    "### 一時保管"
   ]
  },
  {
   "cell_type": "code",
   "execution_count": null,
   "id": "73766793",
   "metadata": {},
   "outputs": [],
   "source": [
    "#plt.figure(figsize=(20,19),dpi=100)\n",
    "fig,ax = plt.subplots(figsize=(30,30),dpi=100)\n",
    "\n",
    "#x = np.linspace(0, cnt, cnt)\n",
    "#x = np.linspace(0,6,6)\n",
    "x = np.array(range( eigen_vector.shape[0] ))\n",
    "#y = v[:,1]\n",
    "#y_n = sorted(y)\n",
    "\n",
    "#y.sort()\n",
    "\n",
    "plt.plot(x, eigen_vector, marker=\".\", color = \"red\", linestyle = \"-\")\n",
    "#plt.savefig(\"Output/Spectral_Clustering_ORA-663_254-284/ORA-test_663_{0:d}_254-284_test.pdf\".format(diff))\n",
    "#plt.savefig(\"test_ch10_v.pdf\")"
   ]
  }
 ],
 "metadata": {
  "kernelspec": {
   "display_name": "Python 3 (ipykernel)",
   "language": "python",
   "name": "python3"
  },
  "language_info": {
   "codemirror_mode": {
    "name": "ipython",
    "version": 3
   },
   "file_extension": ".py",
   "mimetype": "text/x-python",
   "name": "python",
   "nbconvert_exporter": "python",
   "pygments_lexer": "ipython3",
   "version": "3.8.10"
  }
 },
 "nbformat": 4,
 "nbformat_minor": 5
}
