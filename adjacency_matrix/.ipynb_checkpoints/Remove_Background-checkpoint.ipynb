{
 "cells": [
  {
   "cell_type": "code",
   "execution_count": null,
   "id": "d0e12fa5",
   "metadata": {},
   "outputs": [],
   "source": [
    "%matplotlib inline\n",
    "\n",
    "import numpy as np\n",
    "import cv2\n",
    "from tqdm import tqdm\n",
    "import matplotlib.pyplot as plt\n",
    "import sys\n",
    "from sklearn.cluster import KMeans"
   ]
  },
  {
   "cell_type": "code",
   "execution_count": null,
   "id": "5491bb2a",
   "metadata": {
    "scrolled": true
   },
   "outputs": [],
   "source": [
    "img_num = 630\n",
    "img = cv2.imread('../../flower_CT_photo/ORA/[vg-data] ORA/volume_1/ORA-{0:03d}.tif'.format(img_num),0)\n",
    "img = cv2.GaussianBlur(img,(5,5),1)\n",
    "\n",
    "img_col = cv2.imread('../../flower_CT_photo/ORA/[vg-data] ORA/volume_1/ORA-{0:03d}.tif'.format(img_num))\n",
    "height,width = img.shape\n",
    "\n",
    "img_list = []\n",
    "cnt = 0\n",
    "\n",
    "for y in tqdm(range(height)):\n",
    "    for x in range(width):\n",
    "        img_list.append([img[y,x]])\n",
    "        #img_list[0,cnt] = img[y,x]\n",
    "        cnt += 1\n",
    "\n",
    "test = np.array(img_list)\n",
    "\n",
    "pred = KMeans(n_clusters=2).fit_predict(test)\n",
    "\n",
    "print(pred)\n",
    "\n",
    "print(pred.shape)"
   ]
  },
  {
   "cell_type": "code",
   "execution_count": null,
   "id": "a52d48b9",
   "metadata": {},
   "outputs": [],
   "source": [
    "i = 0\n",
    "img_col = cv2.imread('../../flower_CT_photo/ORA/[vg-data] ORA/volume_1/ORA-{0:03d}.tif'.format(img_num))\n",
    "\n",
    "for y in range(height):\n",
    "    for x in range(width):\n",
    "        if(pred[i]==1):\n",
    "            img_col[y,x]=(0,0,255)\n",
    "        i += 1\n",
    "        \n",
    "cv2.imwrite('Output/Remove_Background/ORA-{0:03d}_G1-7-7_del-back.png'.format(img_num),img_col)"
   ]
  },
  {
   "cell_type": "code",
   "execution_count": null,
   "id": "2bac1762",
   "metadata": {},
   "outputs": [],
   "source": [
    "img_num = 630\n",
    "img = cv2.imread('../../flower_CT_photo/ORA/[vg-data] ORA/volume_1/ORA-{0:03d}.tif'.format(img_num),0)\n",
    "img = cv2.GaussianBlur(img,(7,7),1)\n",
    "#img = cv2.cv2.bilateralFilter(img,9,75,75)\n",
    "\n",
    "img_col = cv2.imread('../../flower_CT_photo/ORA/[vg-data] ORA/volume_1/ORA-{0:03d}.tif'.format(img_num))\n",
    "height,width = img.shape\n",
    "\n",
    "img = img.reshape(-1,1)\n",
    "\n",
    "pred = KMeans(n_clusters=2).fit_predict(img)\n",
    "\n",
    "print(pred)\n",
    "\n",
    "print(pred.shape)"
   ]
  },
  {
   "cell_type": "code",
   "execution_count": null,
   "id": "def3b94e",
   "metadata": {},
   "outputs": [],
   "source": [
    "img = cv2.imread('../../flower_CT_photo/ORA/[vg-data] ORA/volume_1/ORA-{0:03d}.tif'.format(img_num),0)\n",
    "img = cv2.GaussianBlur(img,(5,5),1)\n",
    "ret, th = cv2.threshold(img, 0, 255, cv2.THRESH_OTSU)\n",
    "\n",
    "for y in range(height):\n",
    "    for x in range(width):\n",
    "        if(th[y,x]>0):\n",
    "            img_col[y,x]=(0,0,255)\n",
    "            \n",
    "cv2.imwrite('Output/Remove_Background/ORA-{0:03d}_otsu_G1_del-back.png'.format(img_num),img_col)"
   ]
  },
  {
   "cell_type": "code",
   "execution_count": null,
   "id": "70b41d1a",
   "metadata": {},
   "outputs": [],
   "source": []
  }
 ],
 "metadata": {
  "kernelspec": {
   "display_name": "Python 3 (ipykernel)",
   "language": "python",
   "name": "python3"
  },
  "language_info": {
   "codemirror_mode": {
    "name": "ipython",
    "version": 3
   },
   "file_extension": ".py",
   "mimetype": "text/x-python",
   "name": "python",
   "nbconvert_exporter": "python",
   "pygments_lexer": "ipython3",
   "version": "3.8.10"
  }
 },
 "nbformat": 4,
 "nbformat_minor": 5
}
