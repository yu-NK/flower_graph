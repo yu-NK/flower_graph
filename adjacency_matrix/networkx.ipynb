{
 "cells": [
  {
   "cell_type": "markdown",
   "id": "ebdad44e",
   "metadata": {},
   "source": [
    "## networkxを使ってグラフの表示\n",
    "\n",
    "コード確認のため、グラフを表示させる"
   ]
  },
  {
   "cell_type": "markdown",
   "id": "9c339776",
   "metadata": {},
   "source": [
    "### ライブラリのインポート"
   ]
  },
  {
   "cell_type": "code",
   "execution_count": null,
   "id": "da8af2f3",
   "metadata": {},
   "outputs": [],
   "source": [
    "import numpy as np\n",
    "import cv2\n",
    "from tqdm import tqdm\n",
    "import matplotlib.pyplot as plt\n",
    "import networkx as nx\n",
    "import sys\n",
    "#from scipy.sparse import lil_matrix\n",
    "#import numpy.linalg as LA\n",
    "import datetime\n",
    "#from scipy.sparse import csr_matrix, csc_matrix\n",
    "#from scipy.sparse.linalg import inv, eigs"
   ]
  },
  {
   "cell_type": "markdown",
   "id": "71790103",
   "metadata": {},
   "source": [
    "### グラフのノード格納"
   ]
  },
  {
   "cell_type": "code",
   "execution_count": null,
   "id": "0c38631e",
   "metadata": {},
   "outputs": [],
   "source": [
    "diff = 15\n",
    "\n",
    "th = 60\n",
    "    \n",
    "cnt = 1\n",
    "\n",
    "now = datetime.datetime.now()\n",
    "print(now)\n",
    "\n",
    "print('ノード番号付与中')\n",
    "\n",
    "#img = cv2.imread('Input/ORA-663_254-284.png',0)\n",
    "img = cv2.imread('Input/test.png',0)\n",
    "\n",
    "height,width = img.shape\n",
    "\n",
    "G = nx.Graph()\n",
    "pos = {}\n",
    "#edge_weight = []\n",
    "\n",
    "temp = np.zeros((height,width),dtype = 'i4')\n",
    "\n",
    "for y in range(height):\n",
    "    for x in range(width):\n",
    "        if(img[y,x]>th):\n",
    "            temp[y,x] = cnt\n",
    "            \n",
    "            G.add_node(cnt)\n",
    "            pos[cnt]=(x,y)\n",
    "            \n",
    "            cnt += 1\n",
    "\n",
    "now = datetime.datetime.now()\n",
    "print(now)\n",
    "\n",
    "#print('スパース行列作成')\n",
    "#A = lil_matrix((cnt+1,cnt+1),dtype='float')\n",
    "#A = np.zeros((cnt,cnt),dtype='float')\n",
    "\n",
    "now = datetime.datetime.now()\n",
    "print(now)\n",
    "\n",
    "print('隣接行列作成中')\n",
    "\n",
    "for y in tqdm(range(height)):\n",
    "    for x in range(width):\n",
    "\n",
    "        if(img[y,x]>th):\n",
    "            brig1 = img[y,x]\n",
    "            node1 = temp[y,x]\n",
    "\n",
    "            #print(node1)\n",
    "\n",
    "            if(x!=(width-1)):\n",
    "\n",
    "                if(img[y,x+1]>th):\n",
    "                    brig2 = img[y,x+1]\n",
    "                    diff_n = abs(int(brig1)-int(brig2))\n",
    "                    node2 = temp[y,x+1]\n",
    "                    if(diff_n < diff):\n",
    "                        G.add_edge(node1,node2)\n",
    "                        #edge_weight.append(diff-diff_n+1)\n",
    "\n",
    "            if(y!=(height-1)):\n",
    "                \n",
    "                if(img[y+1,x]>th):\n",
    "                    brig2 = img[y+1,x]\n",
    "                    diff_n = abs(int(brig1)-int(brig2))\n",
    "                    node2 = temp[y+1,x]\n",
    "                    if(diff_n < diff):\n",
    "                        G.add_edge(node1,node2)\n",
    "                        #edge_weight.append(diff-diff_n+1)\n",
    "\n",
    "                if(x!=0):\n",
    "                    if(img[y+1,x-1]>th):\n",
    "                        brig2 = img[y+1,x-1]\n",
    "                        diff_n = abs(int(brig1)-int(brig2))\n",
    "                        node2 = temp[y+1,x-1]\n",
    "                        if(diff_n < diff):\n",
    "                            G.add_edge(node1,node2)\n",
    "                            #edge_weight.append(diff-diff_n+1)\n",
    "\n",
    "                if(x!=(width-1)):\n",
    "                    if(img[y+1,x+1]>th):\n",
    "                        brig2 = img[y+1,x+1]\n",
    "                        diff_n = abs(int(brig1)-int(brig2))\n",
    "                        node2 = temp[y+1,x+1]\n",
    "                        if(diff_n < diff):\n",
    "                            G.add_edge(node1,node2)\n",
    "                            #edge_weight.append(diff-diff_n+1)"
   ]
  },
  {
   "cell_type": "markdown",
   "id": "def01f55",
   "metadata": {},
   "source": [
    "### グラフのプロット"
   ]
  },
  {
   "cell_type": "code",
   "execution_count": null,
   "id": "f4170acf",
   "metadata": {},
   "outputs": [],
   "source": [
    "#plt.figure(figsize=(20,19),dpi=100)\n",
    "fig,ax = plt.subplots(figsize=(20,19),dpi=100)\n",
    "ax.invert_yaxis()\n",
    "\n",
    "print('G_draw')\n",
    "#nx.draw(G,pos,node_size=10,width = edge_weight)\n",
    "nx.draw(G,pos,node_size=10)\n",
    "\n",
    "print('plt_draw')\n",
    "#plt.show()\n",
    "plt.savefig(\"ORA-test_edge.pdf\")\n",
    "#plt.savefig(\"ORA-{0:03d}_{1:d}.pdf\".format(img_num,diff))"
   ]
  }
 ],
 "metadata": {
  "kernelspec": {
   "display_name": "Python 3 (ipykernel)",
   "language": "python",
   "name": "python3"
  },
  "language_info": {
   "codemirror_mode": {
    "name": "ipython",
    "version": 3
   },
   "file_extension": ".py",
   "mimetype": "text/x-python",
   "name": "python",
   "nbconvert_exporter": "python",
   "pygments_lexer": "ipython3",
   "version": "3.8.10"
  }
 },
 "nbformat": 4,
 "nbformat_minor": 5
}
