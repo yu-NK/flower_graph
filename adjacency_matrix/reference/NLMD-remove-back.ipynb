{
 "cells": [
  {
   "cell_type": "code",
   "execution_count": null,
   "id": "e26fd950",
   "metadata": {},
   "outputs": [],
   "source": [
    "import numpy as np\n",
    "import cv2\n",
    "from tqdm import tqdm\n",
    "import datetime\n",
    "import sys"
   ]
  },
  {
   "cell_type": "code",
   "execution_count": null,
   "id": "2c58d2f2",
   "metadata": {},
   "outputs": [],
   "source": [
    "img_num = 500\n",
    "\n",
    "now = datetime.datetime.now()\n",
    "print(now)\n",
    "print('ノード番号付与中')\n",
    "\n",
    "#入力画像を取得\n",
    "img = cv2.imread('../../../flower_CT_photo/ORA/[vg-data] ORA/volume_1/ORA-{0:03d}.tif'.format(img_num),0)\n",
    "#画像のサイズを取得\n",
    "height,width = img.shape\n",
    "\n",
    "#入力画像にノンローカルミーンフィルタを適用し2値化\n",
    "img_NLMD = cv2.fastNlMeansDenoising(img,h=6)\n",
    "print(img_NLMD.shape)\n",
    "th_img = np.where(img>80 ,255,0)\n",
    "th_img_NLMD = np.where(img_NLMD>80 ,255,0)\n",
    "\n",
    "# 方法3\n",
    "dst = cv2.Laplacian(img_NLMD, cv2.CV_32F, ksize=5)\n",
    "#dst = np.where(dst>100 ,255,0)\n",
    "\n",
    "\n",
    "cv2.imwrite('reference_output/NLMD.png',img_NLMD)\n",
    "cv2.imwrite('reference_output/NLMD-th80.png',th_img_NLMD)\n",
    "cv2.imwrite('reference_output/th80.png',th_img)\n",
    "cv2.imwrite('reference_output/NLMD-lap.png',dst)"
   ]
  },
  {
   "cell_type": "code",
   "execution_count": null,
   "id": "b9f02089",
   "metadata": {},
   "outputs": [],
   "source": [
    "import cv2  #OpenCVのインポート\n",
    "\n",
    "img_num = 500\n",
    "\n",
    "img = \"../../../flower_CT_photo/ORA/[vg-data] ORA/volume_1/ORA-{0:03d}.tif\".format(img_num) #輪郭を抽出したい画像ファイル名\n",
    "threshold = 80 #二値化に用いる閾値\n",
    "\n",
    "img_color = cv2.imread(img)#画像を読み出しオブジェクトimg_colorに代入\n",
    "img_gray = cv2.imread(img,cv2.IMREAD_GRAYSCALE) #画像をグレースケールで読み出しオブジェクトimg_grayに代入\n",
    "img_blur = cv2.fastNlMeansDenoising(img_gray,h=6) #第一引数で指定したオブジェクトgrayscale_imgを輝度で平均化処理する。第二引数は平均化するピクセル数で、今回の場合は9,9は9x9ピクセルの計81ピクセル。\n",
    "\n",
    "ret, img_binary = cv2.threshold(img_blur, threshold, 255, cv2.THRESH_BINARY) #オブジェクトimg_blurを閾値threshold = 100で二値化しimg_binaryに代入\n",
    "contours, hierarchy = cv2.findContours(img_binary, cv2.RETR_TREE, cv2.CHAIN_APPROX_SIMPLE) #二値化した画像オブジェクトimg_binaryに存在する輪郭を抽出\n",
    "img_color_with_contours = cv2.drawContours(img_color, contours, -1, (0,255,0), 1) #抽出した輪郭の情報を用いて、オブジェクトimg_colorに書き出す\n",
    "\n",
    "cv2.imwrite(\"reference_output/counter-500.png\", img_color_with_contours) #stone_with_contours.jpegとして輪郭抽出された画像を保存"
   ]
  },
  {
   "cell_type": "code",
   "execution_count": null,
   "id": "31ede8bd",
   "metadata": {},
   "outputs": [],
   "source": [
    "img_num = 500\n",
    "\n",
    "now = datetime.datetime.now()\n",
    "print(now)\n",
    "print('ノード番号付与中')\n",
    "\n",
    "#入力画像を取得\n",
    "img = cv2.imread('../../../flower_CT_photo/ORA/[vg-data] ORA/volume_1/ORA-{0:03d}.tif'.format(img_num),0)\n",
    "#画像のサイズを取得\n",
    "height,width = img.shape\n",
    "\n",
    "#入力画像にノンローカルミーンフィルタを適用し2値化\n",
    "img_NLMD = cv2.fastNlMeansDenoising(img,h=6)\n",
    "\n",
    "edges = cv2.Canny(img_NLMD,100,200)\n",
    "\n",
    "img_NLMD_th = np.where(img_NLMD>50,255,0)\n",
    "\n",
    "# 方法3\n",
    "#dst = cv2.Laplacian(img_NLMD, cv2.CV_32F, ksize=5)\n",
    "#dst = np.where(dst>100 ,255,0)\n",
    "\n",
    "#test = img_NLMD_th - dst\n",
    "#test = np.where(test>255,255,0)\n",
    "\n",
    "cv2.imwrite('reference_output/canny_100-200.png',edges)"
   ]
  },
  {
   "cell_type": "code",
   "execution_count": null,
   "id": "5968d441",
   "metadata": {},
   "outputs": [],
   "source": []
  },
  {
   "cell_type": "code",
   "execution_count": null,
   "id": "0aadfad5",
   "metadata": {},
   "outputs": [],
   "source": []
  }
 ],
 "metadata": {
  "kernelspec": {
   "display_name": "Python 3 (ipykernel)",
   "language": "python",
   "name": "python3"
  },
  "language_info": {
   "codemirror_mode": {
    "name": "ipython",
    "version": 3
   },
   "file_extension": ".py",
   "mimetype": "text/x-python",
   "name": "python",
   "nbconvert_exporter": "python",
   "pygments_lexer": "ipython3",
   "version": "3.8.10"
  }
 },
 "nbformat": 4,
 "nbformat_minor": 5
}
