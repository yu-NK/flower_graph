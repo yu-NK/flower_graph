{
 "cells": [
  {
   "cell_type": "code",
   "execution_count": 4,
   "id": "54a950da",
   "metadata": {},
   "outputs": [
    {
     "name": "stdout",
     "output_type": "stream",
     "text": [
      "[0 1 2 3 4 5 6 7 8 9]\n"
     ]
    },
    {
     "data": {
      "image/png": "[encoded data removed]",
      "text/plain": [
       "<Figure size 432x288 with 10 Axes>"
      ]
     },
     "metadata": {
      "needs_background": "light"
     },
     "output_type": "display_data"
    }
   ],
   "source": [
    "import numpy as np\n",
    "import matplotlib.pyplot as plt\n",
    "from sklearn.datasets import load_digits\n",
    "\n",
    "def gen_data():\n",
    "    digits = load_digits()\n",
    "    label_uniq = np.unique(digits.target)\n",
    "    result = []\n",
    "    for label in label_uniq:\n",
    "        result.append(digits.data[digits.target == label].mean(axis=0))\n",
    "    return result, label_uniq\n",
    "\n",
    "def visualize():\n",
    "    X, y = gen_data()\n",
    "    #print(X)\n",
    "    print(y)\n",
    "    fig, axes = plt.subplots(nrows=2, ncols=5)\n",
    "    for ax, x, label in zip(axes.ravel(), X, y):\n",
    "        ax.set_title(label)\n",
    "        ax.imshow(x.reshape(8, 8))\n",
    "    plt.savefig(\"data.png\")\n",
    "\n",
    "if __name__ == \"__main__\":\n",
    "    visualize()"
   ]
  },
  {
   "cell_type": "code",
   "execution_count": 1,
   "id": "724e0ca5",
   "metadata": {},
   "outputs": [
    {
     "ename": "NameError",
     "evalue": "name 'gen_data' is not defined",
     "output_type": "error",
     "traceback": [
      "\u001b[0;31m---------------------------------------------------------------------------\u001b[0m",
      "\u001b[0;31mNameError\u001b[0m                                 Traceback (most recent call last)",
      "\u001b[0;32m/tmp/ipykernel_5183/1530650719.py\u001b[0m in \u001b[0;36m<module>\u001b[0;34m\u001b[0m\n\u001b[1;32m     14\u001b[0m \u001b[0;34m\u001b[0m\u001b[0m\n\u001b[1;32m     15\u001b[0m \u001b[0;32mif\u001b[0m \u001b[0m__name__\u001b[0m \u001b[0;34m==\u001b[0m \u001b[0;34m\"__main__\"\u001b[0m\u001b[0;34m:\u001b[0m\u001b[0;34m\u001b[0m\u001b[0;34m\u001b[0m\u001b[0m\n\u001b[0;32m---> 16\u001b[0;31m     \u001b[0mclustering_score\u001b[0m\u001b[0;34m(\u001b[0m\u001b[0;34m)\u001b[0m\u001b[0;34m\u001b[0m\u001b[0;34m\u001b[0m\u001b[0m\n\u001b[0m",
      "\u001b[0;32m/tmp/ipykernel_5183/1530650719.py\u001b[0m in \u001b[0;36mclustering_score\u001b[0;34m()\u001b[0m\n\u001b[1;32m      3\u001b[0m \u001b[0;34m\u001b[0m\u001b[0m\n\u001b[1;32m      4\u001b[0m \u001b[0;32mdef\u001b[0m \u001b[0mclustering_score\u001b[0m\u001b[0;34m(\u001b[0m\u001b[0;34m)\u001b[0m\u001b[0;34m:\u001b[0m\u001b[0;34m\u001b[0m\u001b[0;34m\u001b[0m\u001b[0m\n\u001b[0;32m----> 5\u001b[0;31m     \u001b[0mX\u001b[0m\u001b[0;34m,\u001b[0m \u001b[0my\u001b[0m \u001b[0;34m=\u001b[0m \u001b[0mgen_data\u001b[0m\u001b[0;34m(\u001b[0m\u001b[0;34m)\u001b[0m\u001b[0;34m\u001b[0m\u001b[0;34m\u001b[0m\u001b[0m\n\u001b[0m\u001b[1;32m      6\u001b[0m     \u001b[0mprint\u001b[0m\u001b[0;34m(\u001b[0m\u001b[0mX\u001b[0m\u001b[0;34m)\u001b[0m\u001b[0;34m\u001b[0m\u001b[0;34m\u001b[0m\u001b[0m\n\u001b[1;32m      7\u001b[0m     methods = [\"single\", \"complete\", \"average\", \"weighted\",\n",
      "\u001b[0;31mNameError\u001b[0m: name 'gen_data' is not defined"
     ]
    }
   ],
   "source": [
    "from scipy.spatial.distance import pdist\n",
    "from scipy.cluster.hierarchy import linkage, cophenet\n",
    "\n",
    "def clustering_score():\n",
    "    X, y = gen_data()\n",
    "    print(X)\n",
    "    methods = [\"single\", \"complete\", \"average\", \"weighted\",\n",
    "               \"centroid\", \"median\", \"ward\"]\n",
    "    for method in methods:\n",
    "        S = pdist(X)\n",
    "        Z = linkage(S, method=method)\n",
    "        c, d = cophenet(Z, S)\n",
    "        print(\"{0} {1:.3f}\".format(method, c))\n",
    "\n",
    "if __name__ == \"__main__\":\n",
    "    clustering_score()"
   ]
  },
  {
   "cell_type": "code",
   "execution_count": null,
   "id": "3e13e0fc",
   "metadata": {},
   "outputs": [],
   "source": []
  }
 ],
 "metadata": {
  "kernelspec": {
   "display_name": "Python 3 (ipykernel)",
   "language": "python",
   "name": "python3"
  },
  "language_info": {
   "codemirror_mode": {
    "name": "ipython",
    "version": 3
   },
   "file_extension": ".py",
   "mimetype": "text/x-python",
   "name": "python",
   "nbconvert_exporter": "python",
   "pygments_lexer": "ipython3",
   "version": "3.8.10"
  }
 },
 "nbformat": 4,
 "nbformat_minor": 5
}
