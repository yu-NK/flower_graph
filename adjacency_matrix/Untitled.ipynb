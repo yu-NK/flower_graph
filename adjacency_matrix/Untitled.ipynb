{
 "cells": [
  {
   "cell_type": "code",
   "execution_count": 5,
   "id": "833c9fc2",
   "metadata": {},
   "outputs": [
    {
     "name": "stderr",
     "output_type": "stream",
     "text": [
      "100%|██████████████████████████████████████████████████████████████████████████████████████████████████████████████████████████████| 888/888 [00:13<00:00, 68.19it/s]\n"
     ]
    }
   ],
   "source": [
    "import cv2\n",
    "import numpy as np\n",
    "from tqdm import tqdm\n",
    "\n",
    "img_num = 600\n",
    "\n",
    "temp = \"Output/Spectral_sys/12_junk-del-label-inte-sp/ORA-{0:03d}_k-means-200_junk-del-label-inte_sp.png\".format(img_num)\n",
    "img_c = cv2.imread(temp,0)\n",
    "\n",
    "height,width = img_c.shape\n",
    "\n",
    "Volume = np.zeros((888,height,width))\n",
    "\n",
    "for z in tqdm(range(888)):\n",
    "    input_file = \"Input/ORA-PNG/ORA-{0:03d}.png\".format(z)\n",
    "    img_num = 887 - z\n",
    "    img = cv2.imread(input_file,0)\n",
    "    Volume[img_num,:,:] = img[:,:]"
   ]
  },
  {
   "cell_type": "code",
   "execution_count": 7,
   "id": "82a4b2b2",
   "metadata": {},
   "outputs": [
    {
     "name": "stderr",
     "output_type": "stream",
     "text": [
      "100%|██████████████████████████████████████████████████████████████████████████████████████████████████████████████████████████████| 858/858 [00:16<00:00, 53.34it/s]\n"
     ]
    }
   ],
   "source": [
    "for y in tqdm(range(height)):\n",
    "    img = Volume[0:500,y,:]\n",
    "\n",
    "    cv2.imwrite('Input/ORA-Coronal_y_part/ORA-Coronal-{0:03d}_part.png'.format(y),img)\n",
    "    #cv2.imwrite('Output/3D_inte/3D-inte_total/ORA-Coronal-{0:03d}_inte.png'.format(y),img)"
   ]
  },
  {
   "cell_type": "code",
   "execution_count": null,
   "id": "d52b7bf4",
   "metadata": {},
   "outputs": [],
   "source": []
  }
 ],
 "metadata": {
  "kernelspec": {
   "display_name": "Python 3 (ipykernel)",
   "language": "python",
   "name": "python3"
  },
  "language_info": {
   "codemirror_mode": {
    "name": "ipython",
    "version": 3
   },
   "file_extension": ".py",
   "mimetype": "text/x-python",
   "name": "python",
   "nbconvert_exporter": "python",
   "pygments_lexer": "ipython3",
   "version": "3.8.10"
  }
 },
 "nbformat": 4,
 "nbformat_minor": 5
}
