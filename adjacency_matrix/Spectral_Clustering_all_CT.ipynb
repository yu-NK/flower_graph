{
 "cells": [
  {
   "cell_type": "markdown",
   "id": "137ab5ac",
   "metadata": {},
   "source": [
    "## 複数枚のCT画像をスペクトラルクラスタリング"
   ]
  },
  {
   "cell_type": "markdown",
   "id": "4d35095e",
   "metadata": {},
   "source": [
    "### ライブラリのインポート"
   ]
  },
  {
   "cell_type": "code",
   "execution_count": 1,
   "id": "e8a96671",
   "metadata": {},
   "outputs": [],
   "source": [
    "%matplotlib inline\n",
    "\n",
    "import numpy as np\n",
    "import cv2\n",
    "from tqdm import tqdm\n",
    "import matplotlib.pyplot as plt\n",
    "#import networkx as nx\n",
    "import sys\n",
    "from scipy.sparse import lil_matrix\n",
    "import numpy.linalg as LA\n",
    "import datetime\n",
    "from scipy.sparse import csr_matrix, csc_matrix\n",
    "from scipy.sparse.linalg import inv, eigs, eigsh\n",
    "from scipy.sparse import diags\n",
    "import seaborn as sns"
   ]
  },
  {
   "cell_type": "markdown",
   "id": "7f3c827b",
   "metadata": {},
   "source": [
    "### ラプラシアン行列の作成"
   ]
  },
  {
   "cell_type": "code",
   "execution_count": 2,
   "id": "a668c6d9",
   "metadata": {},
   "outputs": [],
   "source": [
    "def laplacian_matrix( network_matrix ):\n",
    "    n_nodes = network_matrix.shape[0]\n",
    "    \n",
    "    #print(network_matrix.toarray())\n",
    "    \n",
    "    #degree_matrix = diags( np.ravel(network_matrix.sum(axis=1)), format=\"csr\")\n",
    "    degree_matrix = diags( np.ravel(network_matrix.sum(axis=1)))\n",
    "    \n",
    "    laplacian_matrix = degree_matrix - network_matrix\n",
    "    \n",
    "    #print(laplacian_matrix.toarray())\n",
    "    \n",
    "    return laplacian_matrix"
   ]
  },
  {
   "cell_type": "markdown",
   "id": "3052342e",
   "metadata": {},
   "source": [
    "### 固有値計算"
   ]
  },
  {
   "cell_type": "code",
   "execution_count": 3,
   "id": "cfe1c6ec",
   "metadata": {},
   "outputs": [],
   "source": [
    "def eigen_2nd( network_matrix ):\n",
    "    \n",
    "    now = datetime.datetime.now()\n",
    "    print(now)\n",
    "    print('ラプラシアン行列作成')\n",
    "    \n",
    "    L = laplacian_matrix(network_matrix)\n",
    "    \n",
    "    print(L)\n",
    "    \n",
    "    now = datetime.datetime.now()\n",
    "    print(now)\n",
    "    print('固有値計算作成')\n",
    "\n",
    "    values, vectors = eigs(L,2,which='SR')\n",
    "    \n",
    "    print(values)\n",
    "    print(vectors)\n",
    "    \n",
    "    v_index = np.argsort( values )\n",
    "    \n",
    "    now = datetime.datetime.now()\n",
    "    print(now)\n",
    "    print('第二固有値、固有ベクトル取得')\n",
    "    \n",
    "    eigen = values[ v_index[1] ]\n",
    "    eigen_vector = vectors[:, v_index[1] ]\n",
    "    \n",
    "    print(eigen)\n",
    "    \n",
    "    \"\"\"\n",
    "    eigen = values[ 1 ]\n",
    "    eigen_vector = vectors[:,1]\n",
    "    \"\"\"\n",
    "    \n",
    "    return eigen, eigen_vector"
   ]
  },
  {
   "cell_type": "markdown",
   "id": "38352884",
   "metadata": {},
   "source": [
    "### 隣接行列作成"
   ]
  },
  {
   "cell_type": "code",
   "execution_count": 4,
   "id": "33221252",
   "metadata": {},
   "outputs": [
    {
     "name": "stdout",
     "output_type": "stream",
     "text": [
      "2021-10-26 21:38:38.424146\n",
      "ノード番号付与中\n"
     ]
    },
    {
     "name": "stderr",
     "output_type": "stream",
     "text": [
      "100%|██████████████████████████████████████████████████████████████████████████████████████████████████████████████████████████████████████████████| 5/5 [00:15<00:00,  3.07s/it]\n"
     ]
    },
    {
     "name": "stdout",
     "output_type": "stream",
     "text": [
      "2021-10-26 21:38:53.816035\n",
      "隣接行列を宣言\n",
      "2021-10-26 21:38:54.641782\n",
      "隣接行列作成中\n"
     ]
    },
    {
     "name": "stderr",
     "output_type": "stream",
     "text": [
      "100%|██████████████████████████████████████████████████████████████████████████████████████████████████████████████████████████████████████████████| 5/5 [01:19<00:00, 15.93s/it]\n"
     ]
    }
   ],
   "source": [
    "#入力CT画像の番号\n",
    "img_num = 663\n",
    "\n",
    "z_d = 663\n",
    "z_u = 668\n",
    "\n",
    "#入力画像の閾値\n",
    "th = 55\n",
    "\n",
    "#diff未満の輝度値の差があるノード間を接続\n",
    "diff = 15\n",
    "\n",
    "#ノード数カウント用\n",
    "cnt = 1\n",
    "\n",
    "now = datetime.datetime.now()\n",
    "print(now)\n",
    "print('ノード番号付与中')\n",
    "\n",
    "#入力画像を取得\n",
    "#img = cv2.imread('../../flower_CT_photo/ORA/ORA60/ORA-{0:03d}_60.png'.format(img_num),0)\n",
    "img = cv2.imread('../../flower_CT_photo/ORA/[vg-data] ORA/volume_1/ORA-{0:03d}.tif'.format(img_num),0)\n",
    "#img = cv2.imread('Input/test.png',0)\n",
    "\n",
    "\n",
    "#画像のサイズを取得\n",
    "height,width = img.shape\n",
    "\n",
    "#ノード番号を格納する配列を定義\n",
    "temp = np.zeros((z_u-z_d,height,width),dtype = 'i4')\n",
    "\n",
    "#閾値以上のピクセルにノード番号付与\n",
    "for z in tqdm(range(z_d,z_u)):\n",
    "    #img = cv2.imread('../../flower_CT_photo/ORA/ORA60/ORA-{0:03d}_60.png'.format(z),0)\n",
    "    img = cv2.imread('../../flower_CT_photo/ORA/[vg-data] ORA/volume_1/ORA-{0:03d}.tif'.format(z),0)\n",
    "    \n",
    "    for y in range(height):\n",
    "        for x in range(width):\n",
    "            if(img[y,x]>th):\n",
    "                temp[z-z_d,y,x] = cnt\n",
    "                cnt += 1\n",
    "\n",
    "now = datetime.datetime.now()\n",
    "print(now)\n",
    "print('隣接行列を宣言')\n",
    "\n",
    "#A = np.zeros((cnt,cnt),dtype='float')\n",
    "\n",
    "#スパース行列を使うときは以下\n",
    "A = lil_matrix((cnt-1,cnt-1),dtype='float')\n",
    "\n",
    "now = datetime.datetime.now()\n",
    "print(now)\n",
    "\n",
    "print('隣接行列作成中')\n",
    "\n",
    "for z in tqdm(range(z_d,z_u)):\n",
    "    #img = cv2.imread('../../flower_CT_photo/ORA/ORA60/ORA-{0:03d}_60.png'.format(z),0)\n",
    "    img = cv2.imread('../../flower_CT_photo/ORA/[vg-data] ORA/volume_1/ORA-{0:03d}.tif'.format(z),0)\n",
    "    \n",
    "    if(z != (z_u-1)):\n",
    "        #img_a = cv2.imread('../../flower_CT_photo/ORA/ORA60/ORA-{0:03d}_60.png'.format(z+1),0)\n",
    "        img_a = cv2.imread('../../flower_CT_photo/ORA/[vg-data] ORA/volume_1/ORA-{0:03d}.tif'.format(z+1),0)\n",
    "\n",
    "    for y in range(height):\n",
    "        for x in range(width):\n",
    "\n",
    "            if(img[y,x]>th):\n",
    "                brig1 = img[y,x]\n",
    "                node1 = temp[z-z_d,y,x]-1\n",
    "\n",
    "                #print(node1)\n",
    "\n",
    "                if(x!=(width-1)):\n",
    "\n",
    "                    if(img[y,x+1]>th):\n",
    "                        brig2 = img[y,x+1]\n",
    "                        diff_n = abs(int(brig1)-int(brig2))\n",
    "                        node2 = temp[z-z_d,y,x+1]-1\n",
    "                        if(diff_n < diff):\n",
    "                            A[node1,node2] = 1\n",
    "                            A[node2,node1] = 1\n",
    "\n",
    "\n",
    "                if(y!=(height-1)):\n",
    "\n",
    "                    if(x!=0):\n",
    "                        if(img[y+1,x-1]>th):\n",
    "                            brig2 = img[y+1,x-1]\n",
    "                            diff_n = abs(int(brig1)-int(brig2))\n",
    "                            node2 = temp[z-z_d,y+1,x-1]-1\n",
    "                            if(diff_n < diff):\n",
    "                                A[node1,node2] = 1\n",
    "                                A[node2,node1] = 1\n",
    "\n",
    "                    if(img[y+1,x]>th):\n",
    "                        brig2 = img[y+1,x]\n",
    "                        diff_n = abs(int(brig1)-int(brig2))\n",
    "                        node2 = temp[z-z_d,y+1,x]-1\n",
    "                        if(diff_n < diff):\n",
    "                            A[node1,node2] = 1\n",
    "                            A[node2,node1] = 1\n",
    "\n",
    "                    if(x!=(width-1)):\n",
    "                        if(img[y+1,x+1]>th):\n",
    "                            brig2 = img[y+1,x+1]\n",
    "                            diff_n = abs(int(brig1)-int(brig2))\n",
    "                            node2 = temp[z-z_d,y+1,x+1]-1\n",
    "                            if(diff_n < diff):\n",
    "                                A[node1,node2] = 1\n",
    "                                A[node2,node1] = 1\n",
    "                            \n",
    "                if(z!=(z_u-1)):\n",
    "                    if(img_a[y,x]>th):\n",
    "                        brig2 = img_a[y,x]\n",
    "                        diff_n = abs(int(brig1)-int(brig2))\n",
    "                        node2 = temp[z+1-z_d,y,x]-1\n",
    "                        if(diff_n < diff):\n",
    "                            A[node1,node2] = 1\n",
    "                            A[node2,node1] = 1\n",
    "\n",
    "                    if(x!=0):\n",
    "                        if(img_a[y,x-1]>th):\n",
    "                            brig2 = img_a[y,x-1]\n",
    "                            diff_n = abs(int(brig1)-int(brig2))\n",
    "                            node2 = temp[z+1-z_d,y,x-1]-1\n",
    "                            if(diff_n < diff):\n",
    "                                A[node1,node2] = 1\n",
    "                                A[node2,node1] = 1\n",
    "\n",
    "                    if(x!=(width-1)):\n",
    "                        if(img_a[y,x+1]>th):\n",
    "                            brig2 = img_a[y,x+1]\n",
    "                            diff_n = abs(int(brig1)-int(brig2))\n",
    "                            node2 = temp[z+1-z_d,y,x+1]-1\n",
    "                            if(diff_n < diff):\n",
    "                                A[node1,node2] = 1\n",
    "                                A[node2,node1] = 1\n",
    "\n",
    "                    if(y!=0):\n",
    "                        if(img_a[y-1,x]>th):\n",
    "                            brig2 = img_a[y-1,x]\n",
    "                            diff_n = abs(int(brig1)-int(brig2))\n",
    "                            node2 = temp[z+1-z_d,y-1,x]-1\n",
    "                            if(diff_n < diff):\n",
    "                                A[node1,node2] = 1\n",
    "                                A[node2,node1] = 1\n",
    "\n",
    "                        if(x!=0):\n",
    "                            if(img_a[y-1,x-1]>th):\n",
    "                                brig2 = img_a[y-1,x-1]\n",
    "                                diff_n = abs(int(brig1)-int(brig2))\n",
    "                                node2 = temp[z+1-z_d,y-1,x-1]-1\n",
    "                                if(diff_n < diff):\n",
    "                                    A[node1,node2] = 1\n",
    "                                    A[node2,node1] = 1\n",
    "\n",
    "                        if(x!=(width-1)):\n",
    "                            if(img_a[y-1,x+1]>th):\n",
    "                                brig2 = img_a[y-1,x+1]\n",
    "                                diff_n = abs(int(brig1)-int(brig2))\n",
    "                                node2 = temp[z+1-z_d,y-1,x+1]-1\n",
    "                                if(diff_n < diff):\n",
    "                                    A[node1,node2] = 1\n",
    "                                    A[node2,node1] = 1\n",
    "\n",
    "                    if(y!=(height-1)):\n",
    "                        if(img_a[y+1,x]>th):\n",
    "                            brig2 = img_a[y+1,x]\n",
    "                            diff_n = abs(int(brig1)-int(brig2))\n",
    "                            node2 = temp[z+1-z_d,y+1,x]-1\n",
    "                            if(diff_n < diff):\n",
    "                                A[node1,node2] = 1\n",
    "                                A[node2,node1] = 1\n",
    "\n",
    "                        if(x!=0):\n",
    "                            if(img_a[y+1,x-1]>th):\n",
    "                                brig2 = img_a[y+1,x-1]\n",
    "                                diff_n = abs(int(brig1)-int(brig2))\n",
    "                                node2 = temp[z+1-z_d,y+1,x-1]-1\n",
    "                                if(diff_n < diff):\n",
    "                                    A[node1,node2] = 1\n",
    "                                    A[node2,node1] = 1\n",
    "\n",
    "                        if(x!=(width-1)):\n",
    "                            if(img_a[y+1,x+1]>th):\n",
    "                                brig2 = img_a[y+1,x+1]\n",
    "                                diff_n = abs(int(brig1)-int(brig2))\n",
    "                                node2 = temp[z+1-z_d,y+1,x+1]-1\n",
    "                                if(diff_n < diff):\n",
    "                                    A[node1,node2] = 1\n",
    "                                    A[node2,node1] = 1"
   ]
  },
  {
   "cell_type": "markdown",
   "id": "e0540376",
   "metadata": {},
   "source": [
    "### 固有値計算の表示"
   ]
  },
  {
   "cell_type": "code",
   "execution_count": 5,
   "id": "15f21bcc",
   "metadata": {
    "scrolled": true
   },
   "outputs": [
    {
     "name": "stdout",
     "output_type": "stream",
     "text": [
      "2021-10-26 21:40:15.263794\n",
      "固有値、固有ベクトル計算中\n",
      "2021-10-26 21:40:15.264168\n",
      "ラプラシアン行列作成\n",
      "  (0, 0)\t4.0\n",
      "  (0, 1)\t-1.0\n",
      "  (0, 7)\t-1.0\n",
      "  (0, 56424)\t-1.0\n",
      "  (0, 56432)\t-1.0\n",
      "  (1, 0)\t-1.0\n",
      "  (1, 1)\t8.0\n",
      "  (1, 2)\t-1.0\n",
      "  (1, 7)\t-1.0\n",
      "  (1, 8)\t-1.0\n",
      "  (1, 56424)\t-1.0\n",
      "  (1, 56425)\t-1.0\n",
      "  (1, 56432)\t-1.0\n",
      "  (1, 56433)\t-1.0\n",
      "  (2, 1)\t-1.0\n",
      "  (2, 2)\t8.0\n",
      "  (2, 3)\t-1.0\n",
      "  (2, 8)\t-1.0\n",
      "  (2, 9)\t-1.0\n",
      "  (2, 56423)\t-1.0\n",
      "  (2, 56425)\t-1.0\n",
      "  (2, 56426)\t-1.0\n",
      "  (2, 56433)\t-1.0\n",
      "  (3, 2)\t-1.0\n",
      "  (3, 3)\t8.0\n",
      "  :\t:\n",
      "  (275654, 275655)\t-1.0\n",
      "  (275655, 221937)\t-1.0\n",
      "  (275655, 221939)\t-1.0\n",
      "  (275655, 275654)\t-1.0\n",
      "  (275655, 275655)\t4.0\n",
      "  (275655, 275656)\t-1.0\n",
      "  (275656, 221938)\t-1.0\n",
      "  (275656, 221939)\t-1.0\n",
      "  (275656, 221940)\t-1.0\n",
      "  (275656, 275643)\t-1.0\n",
      "  (275656, 275655)\t-1.0\n",
      "  (275656, 275656)\t6.0\n",
      "  (275656, 275657)\t-1.0\n",
      "  (275657, 221939)\t-1.0\n",
      "  (275657, 221940)\t-1.0\n",
      "  (275657, 221941)\t-1.0\n",
      "  (275657, 275644)\t-1.0\n",
      "  (275657, 275656)\t-1.0\n",
      "  (275657, 275657)\t6.0\n",
      "  (275657, 275658)\t-1.0\n",
      "  (275658, 221940)\t-1.0\n",
      "  (275658, 221941)\t-1.0\n",
      "  (275658, 221942)\t-1.0\n",
      "  (275658, 275657)\t-1.0\n",
      "  (275658, 275658)\t4.0\n",
      "2021-10-26 21:40:15.431305\n",
      "固有値計算作成\n",
      "[1.44618327e-15+0.j 1.37505231e-15+0.j]\n",
      "[[-0.00074132+0.j  0.00027538+0.j]\n",
      " [-0.00074132+0.j  0.00027538+0.j]\n",
      " [-0.00074132+0.j  0.00027538+0.j]\n",
      " ...\n",
      " [ 0.00045593+0.j -0.00031023+0.j]\n",
      " [ 0.00045593+0.j -0.00031023+0.j]\n",
      " [ 0.00045593+0.j -0.00031023+0.j]]\n",
      "2021-10-27 10:45:11.409095\n",
      "第二固有値、固有ベクトル取得\n",
      "(1.4461832676149137e-15+0j)\n"
     ]
    }
   ],
   "source": [
    "#calculate the eigen vector of 2nd smallest eigen value.\n",
    "\n",
    "A = csr_matrix(A)\n",
    "\n",
    "now = datetime.datetime.now()\n",
    "print(now)\n",
    "print('固有値、固有ベクトル計算中')\n",
    "\n",
    "eig, vector = eigen_2nd(A)\n",
    "\n",
    "#print(eig)\n",
    "#print(vector)"
   ]
  },
  {
   "cell_type": "markdown",
   "id": "4b5561ab",
   "metadata": {},
   "source": [
    "#### ＜参考＞全固有値出力用関数"
   ]
  },
  {
   "cell_type": "code",
   "execution_count": null,
   "id": "ab99e575",
   "metadata": {},
   "outputs": [],
   "source": [
    "def all_eigenvalue( network_matrix ):\n",
    "    L = laplacian_matrix( network_matrix)\n",
    "    values, vectors = LA.eig( L )\n",
    "    return values"
   ]
  },
  {
   "cell_type": "markdown",
   "id": "fe250b3f",
   "metadata": {},
   "source": [
    "#### ＜参考＞固有値の変化をプロット"
   ]
  },
  {
   "cell_type": "code",
   "execution_count": null,
   "id": "c4908edc",
   "metadata": {},
   "outputs": [],
   "source": [
    "#全固有値を取得\n",
    "values = all_eigenvalue( A )\n",
    "\n",
    "#固有値の変化をプロット\n",
    "x_eig = np.array( range( values.shape[0] ) )\n",
    "#x_eig = np.array(range(20))\n",
    "eig_sort = sorted(values)\n",
    "#eig_part = eig_sort[0:20]\n",
    "\n",
    "plt.plot( x_eig, eig_sort, marker = '.', color = 'red' )"
   ]
  },
  {
   "cell_type": "markdown",
   "id": "8c45c506",
   "metadata": {},
   "source": [
    "### 固有ベクトルの値をプロット"
   ]
  },
  {
   "cell_type": "code",
   "execution_count": 6,
   "id": "274ba13e",
   "metadata": {},
   "outputs": [
    {
     "name": "stderr",
     "output_type": "stream",
     "text": [
      "/usr/local/lib/python3.8/dist-packages/matplotlib/cbook/__init__.py:1333: ComplexWarning: Casting complex values to real discards the imaginary part\n",
      "  return np.asarray(x, float)\n"
     ]
    },
    {
     "data": {
      "image/png": "[encoded data removed]",
      "text/plain": [
       "<Figure size 3000x3000 with 1 Axes>"
      ]
     },
     "metadata": {
      "needs_background": "light"
     },
     "output_type": "display_data"
    }
   ],
   "source": [
    "#plot the vector's values\n",
    "\n",
    "fig,ax = plt.subplots(figsize=(30,30),dpi=100)\n",
    "\n",
    "x = np.array( range( vector.shape[0] ) )\n",
    "v = sorted(vector)\n",
    "\n",
    "#plt.plot( x, vector, marker = '.', color = 'red' ,linestyle='None',markersize=3)\n",
    "plt.plot( x, v, marker = '.', color = 'red' ,markersize=3)\n",
    "plt.savefig('Output/Spectral_Clustering_ORA-{0:03d}-{1:03d}/ORA-{0:03d}-{1:03d}_{2:d}_vector_sorted.pdf'.format(z_d,z_u,diff))"
   ]
  },
  {
   "cell_type": "markdown",
   "id": "b2be08b7",
   "metadata": {},
   "source": [
    "### 固有ベクトルの値から分類"
   ]
  },
  {
   "cell_type": "code",
   "execution_count": null,
   "id": "f8ee359c",
   "metadata": {},
   "outputs": [],
   "source": [
    "img_col = cv2.imread('Input/ORA-{0:03d}_{1:d}-{2:d}.png'.format(img_num,left,right))\n",
    "#img_col = cv2.imread('Input/test.png')\n",
    "\n",
    "for y in tqdm(range(height)):\n",
    "    for x in range(width):\n",
    "        if(temp[y,x]>0):\n",
    "\n",
    "            i = temp[y,x]-1\n",
    "            \n",
    "            if(-0.05<vector[i]):\n",
    "                img_col[y,x] = (0,0,255)\n",
    "            else:\n",
    "                img_col[y,x] = (255,0,0)\n",
    "\n",
    "cv2.imwrite('Output/Spectral_Clustering_ORA-{0:03d}-{1:03d}/ORA-{0:03d}-{1:03d}_color_{2:d}_test.png'.format(z_d,z_u,diff),img_col)"
   ]
  },
  {
   "cell_type": "code",
   "execution_count": 8,
   "id": "edfc15df",
   "metadata": {},
   "outputs": [
    {
     "name": "stderr",
     "output_type": "stream",
     "text": [
      "  3%|████▎                                                                                                                                     | 27/858 [00:00<00:03, 260.63it/s]/tmp/ipykernel_9212/2376337277.py:24: ComplexWarning: Casting complex values to real discards the imaginary part\n",
      "  temp_c[y,x] = vector[i]\n",
      "100%|█████████████████████████████████████████████████████████████████████████████████████████████████████████████████████████████████████████| 858/858 [00:03<00:00, 224.75it/s]\n"
     ]
    },
    {
     "data": {
      "image/png": "[encoded data removed]",
      "text/plain": [
       "<Figure size 550x450 with 2 Axes>"
      ]
     },
     "metadata": {
      "needs_background": "light"
     },
     "output_type": "display_data"
    }
   ],
   "source": [
    "img_num = 665\n",
    "img_col = cv2.imread('../../flower_CT_photo/ORA/ORA60/ORA-{0:03d}_60.png'.format(img_num))\n",
    "\n",
    "max_v = np.argmax(vector)\n",
    "min_v = np.argmin(vector)\n",
    "\n",
    "temp_c = np.zeros((height,width))\n",
    "\n",
    "for y in tqdm(range(height)):\n",
    "    for x in range(width):\n",
    "        if(temp[img_num-z_d,y,x]>0):\n",
    "            \n",
    "            i = temp[img_num-z_d,y,x]-1\n",
    "            \n",
    "            '''\n",
    "            if(vector[i]>0.01):\n",
    "                temp_c[y,x] = 0.01\n",
    "            elif(vector[i]<-0.01):\n",
    "                temp_c[y,x] = -0.01\n",
    "            else:\n",
    "                temp_c[y,x] = vector[i]\n",
    "            '''\n",
    "            \n",
    "            temp_c[y,x] = vector[i]\n",
    "            \n",
    "            '''\n",
    "            if(vector[i]>0.01):\n",
    "                img_col[y,x] = (0,0,255)\n",
    "            elif(vector[i]>0):\n",
    "                img_col[y,x] = (0,255-int(255*vector[i]/0.01),int(255*vector[i]/0.01))\n",
    "            elif(vector[i]==0):\n",
    "                img_col[y,x] = (0,0,0)\n",
    "            elif(vector[i]< -0.01):\n",
    "                img_col[y,x] = (255,0,0)\n",
    "            elif(vector[i]<0):\n",
    "                img_col[y,x] = (int(255*abs(vector[i])/0.01),255-int(255*abs(vector[i])/0.01),0)\n",
    "            ''' \n",
    "                \n",
    "                #img_col[y,x] = (255-int(255*(abs(vector[i]))/abs(min_v)),100,0)\n",
    "\n",
    "fig,ax = plt.subplots(figsize=(11,9),dpi=50)\n",
    "sns.heatmap(temp_c,cmap = 'seismic',center=0)\n",
    "\n",
    "#cv2.imwrite('Output/Spectral_Clustering_ORA-{0:03d}/ORA-{0:03d}_color_{1:d}_heat.png'.format(img_num,diff),img_col)\n",
    "\n",
    "plt.savefig('Output/Spectral_Clustering_ORA-{0:03d}-{1:03d}/ORA-{0:03d}-{1:03d}_{2:03d}_color_{3:d}_heat_other.pdf'.format(z_d,z_u,img_num,diff))"
   ]
  },
  {
   "cell_type": "markdown",
   "id": "f454824b",
   "metadata": {},
   "source": [
    "### 一時保管"
   ]
  },
  {
   "cell_type": "code",
   "execution_count": null,
   "id": "51af3027",
   "metadata": {},
   "outputs": [],
   "source": [
    "!pip3 install networkx seaborn"
   ]
  },
  {
   "cell_type": "code",
   "execution_count": null,
   "id": "445a8ce7",
   "metadata": {},
   "outputs": [],
   "source": []
  }
 ],
 "metadata": {
  "kernelspec": {
   "display_name": "Python 3 (ipykernel)",
   "language": "python",
   "name": "python3"
  },
  "language_info": {
   "codemirror_mode": {
    "name": "ipython",
    "version": 3
   },
   "file_extension": ".py",
   "mimetype": "text/x-python",
   "name": "python",
   "nbconvert_exporter": "python",
   "pygments_lexer": "ipython3",
   "version": "3.8.10"
  }
 },
 "nbformat": 4,
 "nbformat_minor": 5
}
